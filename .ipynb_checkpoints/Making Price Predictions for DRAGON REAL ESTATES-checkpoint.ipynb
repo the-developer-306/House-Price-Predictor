{
 "cells": [
  {
   "cell_type": "markdown",
   "id": "407d161a",
   "metadata": {},
   "source": [
    "## Loading Random Forest Regressor Model"
   ]
  },
  {
   "cell_type": "code",
   "execution_count": 1,
   "id": "9cd4d481",
   "metadata": {},
   "outputs": [],
   "source": [
    "from joblib import load\n",
    "model = load(\"RANDOM_FOREST_REGRESSOR.joblib\")"
   ]
  },
  {
   "cell_type": "markdown",
   "id": "9dbf7db0",
   "metadata": {},
   "source": [
    "## Giving Feature Information (To help user in INPUT)"
   ]
  },
  {
   "cell_type": "code",
   "execution_count": null,
   "id": "c0793507",
   "metadata": {
    "scrolled": true
   },
   "outputs": [
    {
     "ename": "",
     "evalue": "",
     "output_type": "error",
     "traceback": [
      "\u001b[1;31mRunning cells with 'Python 3.10.6 64-bit' requires ipykernel package.\n",
      "\u001b[1;31mRun the following command to install 'ipykernel' into the Python environment. \n",
      "\u001b[1;31mCommand: 'c:/Users/prath/AppData/Local/Programs/Python/Python310/python.exe -m pip install ipykernel -U --user --force-reinstall'"
     ]
    }
   ],
   "source": [
    "print(\"Feature Information:\")\n",
    "print(\"\")\n",
    "print(\"1.  CRIM      per capita crime rate by town\")\n",
    "print(\"2.  ZN        proportion of residential land zoned for lots over 25,000 sq.ft.\")\n",
    "print(\"3.  INDUS     proportion of non-retail business acres per town\")\n",
    "print(\"4.  CHAS      Charles River dummy variable (= 1 if tract bounds river; 0 otherwise)\")\n",
    "print(\"5.  NOX       nitric oxides concentration (parts per 10 million)\")\n",
    "print(\"6.  RM        average number of rooms per dwelling\")\n",
    "print(\"7.  AGE       proportion of owner-occupied units built prior to 1940\")\n",
    "print(\"8.  DIS       weighted distances to five Boston employment centres\")\n",
    "print(\"9.  RAD       index of accessibility to radial highways\")\n",
    "print(\"10. TAX       full-value property-tax rate per $10,000\")\n",
    "print(\"11. PTRATIO   pupil-teacher ratio by town\")\n",
    "print(\"12. B         1000(Bk - 0.63)^2 where Bk is the proportion of blacks by town\")\n",
    "print(\"13. LSTAT     % lower status of the population\")\n",
    "\n",
    "print(\"\")\n",
    "print(\"Label Information: \")\n",
    "print(\"\")\n",
    "print(\"14. MEDV     Median value of owner-occupied homes in $1000's\")"
   ]
  },
  {
   "cell_type": "markdown",
   "id": "5337e27e",
   "metadata": {},
   "source": [
    "## Taking input of Features of a house to predict its price"
   ]
  },
  {
   "cell_type": "markdown",
   "id": "d5a1b9d1",
   "metadata": {},
   "source": [
    "Here we will take input as a list of 13 features. It must be converted into a DDL(Double Dimensional List) because .predict() function takes DDL."
   ]
  },
  {
   "cell_type": "code",
   "execution_count": 5,
   "id": "6d24678b",
   "metadata": {},
   "outputs": [
    {
     "name": "stdout",
     "output_type": "stream",
     "text": [
      "Enter a list of 13 features of a house to predict it's price: [0.06905,0,2.18,0,0.458,7.147,54.2,6.0622,3,222,18.7,396.9,5.33]\n",
      "\n",
      "\n",
      "\n",
      "\n",
      "The Price of house is : 35242.99999999996 USD\n",
      "\n",
      "\n",
      "\n",
      "\n"
     ]
    },
    {
     "name": "stderr",
     "output_type": "stream",
     "text": [
      "C:\\Users\\prath\\Desktop\\Coding\\Machine Learning\\learning_ml\\lib\\site-packages\\sklearn\\base.py:450: UserWarning: X does not have valid feature names, but RandomForestRegressor was fitted with feature names\n",
      "  warnings.warn(\n"
     ]
    }
   ],
   "source": [
    "temp = eval(input(\"Enter a list of 13 features of a house to predict it's price: \"))\n",
    "predicted_label = model.predict([temp])\n",
    "print(\"\")\n",
    "print(\"\")\n",
    "print(\"\")\n",
    "print(\"\")\n",
    "print(\"The Price of house is :\", predicted_label[0]*1000, \"USD\")\n",
    "print(\"\")\n",
    "print(\"\")\n",
    "print(\"\")\n",
    "print(\"\")"
   ]
  }
 ],
 "metadata": {
  "kernelspec": {
   "display_name": "Python 3.10.6 64-bit",
   "language": "python",
   "name": "python3"
  },
  "language_info": {
   "codemirror_mode": {
    "name": "ipython",
    "version": 3
   },
   "file_extension": ".py",
   "mimetype": "text/x-python",
   "name": "python",
   "nbconvert_exporter": "python",
   "pygments_lexer": "ipython3",
   "version": "3.10.6"
  },
  "vscode": {
   "interpreter": {
    "hash": "bcd1eee357b80b133e21472a2213067d6872cd29173f136f2db7d13b6d32cbeb"
   }
  }
 },
 "nbformat": 4,
 "nbformat_minor": 5
}
