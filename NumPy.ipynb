{
 "cells": [
  {
   "cell_type": "markdown",
   "id": "aaf78555",
   "metadata": {},
   "source": [
    "# Importing NumPy"
   ]
  },
  {
   "cell_type": "code",
   "execution_count": 1,
   "id": "54ee62fb",
   "metadata": {},
   "outputs": [],
   "source": [
    "import numpy as np"
   ]
  },
  {
   "cell_type": "markdown",
   "id": "5709e60f",
   "metadata": {},
   "source": [
    "# Creation of NumPy Arrays"
   ]
  },
  {
   "cell_type": "markdown",
   "id": "a57aa71c",
   "metadata": {},
   "source": [
    "1. Conversion from python structures (eg. lists, tuples and dictionaries)"
   ]
  },
  {
   "cell_type": "code",
   "execution_count": 2,
   "id": "c9b2088e",
   "metadata": {},
   "outputs": [],
   "source": [
    "myArr1 = np.array([1, 2, 3, 4])\n",
    "\n",
    "myArr2 = np.array((1, 2, 3, 4))\n",
    "\n",
    "myArr3 = np.array({1:\"A\", 2:\"B\", 3:\"c\"})"
   ]
  },
  {
   "cell_type": "code",
   "execution_count": 3,
   "id": "5789c224",
   "metadata": {},
   "outputs": [
    {
     "data": {
      "text/plain": [
       "4"
      ]
     },
     "execution_count": 3,
     "metadata": {},
     "output_type": "execute_result"
    }
   ],
   "source": [
    "myArr1\n",
    "\n",
    "myArr1.shape\n",
    "\n",
    "myArr1.dtype\n",
    "\n",
    "myArr1.size"
   ]
  },
  {
   "cell_type": "markdown",
   "id": "91c65c73",
   "metadata": {},
   "source": [
    "2. Intrinsic NumPy array creation (eg. arange, ones, zeros)"
   ]
  },
  {
   "cell_type": "code",
   "execution_count": 4,
   "id": "12a38957",
   "metadata": {},
   "outputs": [],
   "source": [
    "zeros = np.zeros((5, 5))\n",
    "# gives a null matrix of provided shape\n",
    "\n",
    "rng = np.arange(15)\n",
    "# gives array of numbers from 0 to provided number\n",
    "\n",
    "lspace = np.linspace(1,4,4) \n",
    "# arg1, arg2 are starting no. and ending no. while arg3 is number of nos. wanted\n",
    "\n",
    "emp = np.empty((4,6))\n",
    "# makes an empty array and fills it with random values \n",
    "\n",
    "emp_l = np.empty_like(lspace)\n",
    "# takes a previous array and fills random values in the same shape\n",
    "\n",
    "ide = np.identity(5)\n",
    "# gives an identity matrix of provided shape"
   ]
  },
  {
   "cell_type": "code",
   "execution_count": 5,
   "id": "5d8d6da5",
   "metadata": {},
   "outputs": [
    {
     "data": {
      "text/plain": [
       "array([[0., 0., 0., 0., 0.],\n",
       "       [0., 0., 0., 0., 0.],\n",
       "       [0., 0., 0., 0., 0.],\n",
       "       [0., 0., 0., 0., 0.],\n",
       "       [0., 0., 0., 0., 0.]])"
      ]
     },
     "execution_count": 5,
     "metadata": {},
     "output_type": "execute_result"
    }
   ],
   "source": [
    "zeros"
   ]
  },
  {
   "cell_type": "code",
   "execution_count": 6,
   "id": "1400ad8b",
   "metadata": {},
   "outputs": [
    {
     "data": {
      "text/plain": [
       "array([ 0,  1,  2,  3,  4,  5,  6,  7,  8,  9, 10, 11, 12, 13, 14])"
      ]
     },
     "execution_count": 6,
     "metadata": {},
     "output_type": "execute_result"
    }
   ],
   "source": [
    "rng"
   ]
  },
  {
   "cell_type": "code",
   "execution_count": 7,
   "id": "abe4a08a",
   "metadata": {},
   "outputs": [
    {
     "data": {
      "text/plain": [
       "array([1., 2., 3., 4.])"
      ]
     },
     "execution_count": 7,
     "metadata": {},
     "output_type": "execute_result"
    }
   ],
   "source": [
    "lspace"
   ]
  },
  {
   "cell_type": "code",
   "execution_count": 8,
   "id": "f5f3cf75",
   "metadata": {},
   "outputs": [
    {
     "data": {
      "text/plain": [
       "array([[ 0.00000000e+000, -2.39039093e-310,  0.00000000e+000,\n",
       "         0.00000000e+000,  0.00000000e+000,  0.00000000e+000],\n",
       "       [ 0.00000000e+000,  0.00000000e+000,  0.00000000e+000,\n",
       "         0.00000000e+000,  0.00000000e+000,  0.00000000e+000],\n",
       "       [ 0.00000000e+000,  0.00000000e+000,  0.00000000e+000,\n",
       "         0.00000000e+000,  0.00000000e+000, -2.44471405e-310],\n",
       "       [ 0.00000000e+000,  0.00000000e+000,  0.00000000e+000,\n",
       "         0.00000000e+000,  0.00000000e+000,  0.00000000e+000]])"
      ]
     },
     "execution_count": 8,
     "metadata": {},
     "output_type": "execute_result"
    }
   ],
   "source": [
    "emp"
   ]
  },
  {
   "cell_type": "code",
   "execution_count": 9,
   "id": "5f8a9a1c",
   "metadata": {},
   "outputs": [
    {
     "data": {
      "text/plain": [
       "array([6.23042070e-307, 4.67296746e-307, 1.69121096e-306, 7.56602523e-307])"
      ]
     },
     "execution_count": 9,
     "metadata": {},
     "output_type": "execute_result"
    }
   ],
   "source": [
    "emp_l"
   ]
  },
  {
   "cell_type": "code",
   "execution_count": 10,
   "id": "12c7eb59",
   "metadata": {},
   "outputs": [
    {
     "data": {
      "text/plain": [
       "array([[1., 0., 0., 0., 0.],\n",
       "       [0., 1., 0., 0., 0.],\n",
       "       [0., 0., 1., 0., 0.],\n",
       "       [0., 0., 0., 1., 0.],\n",
       "       [0., 0., 0., 0., 1.]])"
      ]
     },
     "execution_count": 10,
     "metadata": {},
     "output_type": "execute_result"
    }
   ],
   "source": [
    "ide"
   ]
  },
  {
   "cell_type": "code",
   "execution_count": 11,
   "id": "56471ee5",
   "metadata": {},
   "outputs": [
    {
     "data": {
      "text/plain": [
       "array([[ 0,  1,  2,  3,  4],\n",
       "       [ 5,  6,  7,  8,  9],\n",
       "       [10, 11, 12, 13, 14]])"
      ]
     },
     "execution_count": 11,
     "metadata": {},
     "output_type": "execute_result"
    }
   ],
   "source": [
    "rng_reshaped = rng.reshape(3, 5) \n",
    "# reshapes the array to provided shape\n",
    "rng_reshaped"
   ]
  },
  {
   "cell_type": "code",
   "execution_count": 12,
   "id": "1dc78581",
   "metadata": {},
   "outputs": [
    {
     "data": {
      "text/plain": [
       "array([ 0,  1,  2,  3,  4,  5,  6,  7,  8,  9, 10, 11, 12, 13, 14])"
      ]
     },
     "execution_count": 12,
     "metadata": {},
     "output_type": "execute_result"
    }
   ],
   "source": [
    "rng_reshaped.ravel()\n",
    "# it reshapes the reshaped array into original"
   ]
  },
  {
   "cell_type": "markdown",
   "id": "a9f8f081",
   "metadata": {},
   "source": [
    "# NumPy Axes"
   ]
  },
  {
   "cell_type": "code",
   "execution_count": 13,
   "id": "ce66502e",
   "metadata": {},
   "outputs": [
    {
     "data": {
      "text/plain": [
       "array([[1, 2, 3],\n",
       "       [4, 5, 6],\n",
       "       [7, 8, 9]])"
      ]
     },
     "execution_count": 13,
     "metadata": {},
     "output_type": "execute_result"
    }
   ],
   "source": [
    "l = [[1, 2, 3], [4, 5, 6], [7, 8, 9]]\n",
    "lis = np.array(l)\n",
    "lis"
   ]
  },
  {
   "cell_type": "code",
   "execution_count": 14,
   "id": "6a6837d2",
   "metadata": {},
   "outputs": [
    {
     "data": {
      "text/plain": [
       "array([12, 15, 18])"
      ]
     },
     "execution_count": 14,
     "metadata": {},
     "output_type": "execute_result"
    }
   ],
   "source": [
    "lis.sum(axis = 0)\n",
    "# axis = 0 stands for traversing all coloumns"
   ]
  },
  {
   "cell_type": "code",
   "execution_count": 15,
   "id": "67b64f5f",
   "metadata": {},
   "outputs": [
    {
     "data": {
      "text/plain": [
       "array([ 6, 15, 24])"
      ]
     },
     "execution_count": 15,
     "metadata": {},
     "output_type": "execute_result"
    }
   ],
   "source": [
    "lis.sum(axis = 1)\n",
    "# axis = 1 stands for traversing all rows"
   ]
  },
  {
   "cell_type": "markdown",
   "id": "0efbeb13",
   "metadata": {},
   "source": [
    "# NumPy Attributes"
   ]
  },
  {
   "cell_type": "markdown",
   "id": "8ba671b0",
   "metadata": {},
   "source": [
    "Attributes are functions without parenthesis"
   ]
  },
  {
   "cell_type": "code",
   "execution_count": 16,
   "id": "00be9c4f",
   "metadata": {},
   "outputs": [
    {
     "data": {
      "text/plain": [
       "array([[1, 4, 7],\n",
       "       [2, 5, 8],\n",
       "       [3, 6, 9]])"
      ]
     },
     "execution_count": 16,
     "metadata": {},
     "output_type": "execute_result"
    }
   ],
   "source": [
    "lis.T\n",
    "# transposes the matrix"
   ]
  },
  {
   "cell_type": "code",
   "execution_count": 17,
   "id": "c3404a39",
   "metadata": {},
   "outputs": [
    {
     "name": "stdout",
     "output_type": "stream",
     "text": [
      "1\n",
      "2\n",
      "3\n",
      "4\n",
      "5\n",
      "6\n",
      "7\n",
      "8\n",
      "9\n"
     ]
    }
   ],
   "source": [
    "lis.flat\n",
    "# gives an iterator for the numpy array\n",
    "\n",
    "for item in lis.flat:\n",
    "    print(item)"
   ]
  },
  {
   "cell_type": "code",
   "execution_count": 18,
   "id": "e2ed1bd0",
   "metadata": {},
   "outputs": [
    {
     "data": {
      "text/plain": [
       "2"
      ]
     },
     "execution_count": 18,
     "metadata": {},
     "output_type": "execute_result"
    }
   ],
   "source": [
    "lis.ndim\n",
    "# gives the dimension of numpy array"
   ]
  },
  {
   "cell_type": "code",
   "execution_count": 19,
   "id": "06448561",
   "metadata": {},
   "outputs": [
    {
     "data": {
      "text/plain": [
       "9"
      ]
     },
     "execution_count": 19,
     "metadata": {},
     "output_type": "execute_result"
    }
   ],
   "source": [
    "lis.size\n",
    "# gives the number of elements in the array "
   ]
  },
  {
   "cell_type": "code",
   "execution_count": 20,
   "id": "479b3630",
   "metadata": {},
   "outputs": [
    {
     "data": {
      "text/plain": [
       "36"
      ]
     },
     "execution_count": 20,
     "metadata": {},
     "output_type": "execute_result"
    }
   ],
   "source": [
    "lis.nbytes\n",
    "# total bytes consumed by the array"
   ]
  },
  {
   "cell_type": "markdown",
   "id": "4f27a98a",
   "metadata": {},
   "source": [
    "# NumPy Functions"
   ]
  },
  {
   "cell_type": "code",
   "execution_count": 21,
   "id": "63259618",
   "metadata": {},
   "outputs": [],
   "source": [
    "one = np.array([1, 2, 55, 4, 5])"
   ]
  },
  {
   "cell_type": "code",
   "execution_count": 22,
   "id": "ba2d287c",
   "metadata": {},
   "outputs": [
    {
     "data": {
      "text/plain": [
       "2"
      ]
     },
     "execution_count": 22,
     "metadata": {},
     "output_type": "execute_result"
    }
   ],
   "source": [
    "one.argmax()\n",
    "# returns the index of maximum element"
   ]
  },
  {
   "cell_type": "code",
   "execution_count": 23,
   "id": "47ad3151",
   "metadata": {},
   "outputs": [
    {
     "data": {
      "text/plain": [
       "0"
      ]
     },
     "execution_count": 23,
     "metadata": {},
     "output_type": "execute_result"
    }
   ],
   "source": [
    "one.argmin()\n",
    "# returns the index of minimum element"
   ]
  },
  {
   "cell_type": "code",
   "execution_count": 24,
   "id": "8ec56684",
   "metadata": {},
   "outputs": [
    {
     "data": {
      "text/plain": [
       "array([0, 1, 3, 4, 2], dtype=int64)"
      ]
     },
     "execution_count": 24,
     "metadata": {},
     "output_type": "execute_result"
    }
   ],
   "source": [
    "one.argsort()\n",
    "# returns the array of indices of sorted array"
   ]
  },
  {
   "cell_type": "code",
   "execution_count": 25,
   "id": "c196fa0c",
   "metadata": {},
   "outputs": [],
   "source": [
    "two = np.array([[1,7,3], \n",
    "                [8,5,1], \n",
    "                [3,9,2]])"
   ]
  },
  {
   "cell_type": "code",
   "execution_count": 26,
   "id": "2cc8b8a4",
   "metadata": {},
   "outputs": [
    {
     "name": "stdout",
     "output_type": "stream",
     "text": [
      "7\n"
     ]
    },
    {
     "data": {
      "text/plain": [
       "array([1, 2, 0], dtype=int64)"
      ]
     },
     "execution_count": 26,
     "metadata": {},
     "output_type": "execute_result"
    }
   ],
   "source": [
    "two.argmax()\n",
    "# first it straightens the array and then give index\n",
    "print(two.argmax())\n",
    "\n",
    "two.argmax(axis = 0)\n",
    "# gives the array of indices of max elements from all  coloumns"
   ]
  },
  {
   "cell_type": "code",
   "execution_count": 27,
   "id": "9ff33f0d",
   "metadata": {},
   "outputs": [
    {
     "data": {
      "text/plain": [
       "array([[0, 1, 1],\n",
       "       [2, 0, 2],\n",
       "       [1, 2, 0]], dtype=int64)"
      ]
     },
     "execution_count": 27,
     "metadata": {},
     "output_type": "execute_result"
    }
   ],
   "source": [
    "two.argsort(axis = 0)"
   ]
  },
  {
   "cell_type": "markdown",
   "id": "2a133c6c",
   "metadata": {},
   "source": [
    "# NumPy Math Functions (Matrix Operations)"
   ]
  },
  {
   "cell_type": "code",
   "execution_count": 28,
   "id": "3eeea61f",
   "metadata": {},
   "outputs": [],
   "source": [
    "arr1 = np.array([[0, 1, 1],\n",
    "                 [2, 0, 2],\n",
    "                 [1, 2, 0]])\n",
    "\n",
    "arr2 = np.array([[0, 3, 1],\n",
    "                [9, 0, 7],\n",
    "                [1, 5, 0]])"
   ]
  },
  {
   "cell_type": "code",
   "execution_count": 29,
   "id": "08d1ec8d",
   "metadata": {},
   "outputs": [
    {
     "data": {
      "text/plain": [
       "array([[ 0,  4,  2],\n",
       "       [11,  0,  9],\n",
       "       [ 2,  7,  0]])"
      ]
     },
     "execution_count": 29,
     "metadata": {},
     "output_type": "execute_result"
    }
   ],
   "source": [
    "arr1 + arr2"
   ]
  },
  {
   "cell_type": "code",
   "execution_count": 30,
   "id": "5944d8ed",
   "metadata": {},
   "outputs": [
    {
     "data": {
      "text/plain": [
       "array([[ 0,  3,  1],\n",
       "       [18,  0, 14],\n",
       "       [ 1, 10,  0]])"
      ]
     },
     "execution_count": 30,
     "metadata": {},
     "output_type": "execute_result"
    }
   ],
   "source": [
    "arr1 * arr2  "
   ]
  },
  {
   "cell_type": "code",
   "execution_count": 31,
   "id": "5cb55484",
   "metadata": {},
   "outputs": [
    {
     "data": {
      "text/plain": [
       "array([[0.        , 1.        , 1.        ],\n",
       "       [1.41421356, 0.        , 1.41421356],\n",
       "       [1.        , 1.41421356, 0.        ]])"
      ]
     },
     "execution_count": 31,
     "metadata": {},
     "output_type": "execute_result"
    }
   ],
   "source": [
    "np.sqrt(arr1)"
   ]
  },
  {
   "cell_type": "code",
   "execution_count": 32,
   "id": "c1418536",
   "metadata": {},
   "outputs": [
    {
     "data": {
      "text/plain": [
       "9"
      ]
     },
     "execution_count": 32,
     "metadata": {},
     "output_type": "execute_result"
    }
   ],
   "source": [
    "arr1.sum()\n",
    "# gives sum of all elements of the array"
   ]
  },
  {
   "cell_type": "code",
   "execution_count": 33,
   "id": "484ecb2c",
   "metadata": {},
   "outputs": [
    {
     "data": {
      "text/plain": [
       "2"
      ]
     },
     "execution_count": 33,
     "metadata": {},
     "output_type": "execute_result"
    }
   ],
   "source": [
    "arr1.max()"
   ]
  },
  {
   "cell_type": "code",
   "execution_count": 34,
   "id": "8d8f4641",
   "metadata": {},
   "outputs": [
    {
     "data": {
      "text/plain": [
       "0"
      ]
     },
     "execution_count": 34,
     "metadata": {},
     "output_type": "execute_result"
    }
   ],
   "source": [
    "arr1.min()"
   ]
  },
  {
   "cell_type": "code",
   "execution_count": 35,
   "id": "28faf122",
   "metadata": {},
   "outputs": [
    {
     "data": {
      "text/plain": [
       "(array([1, 1], dtype=int64), array([0, 2], dtype=int64))"
      ]
     },
     "execution_count": 35,
     "metadata": {},
     "output_type": "execute_result"
    }
   ],
   "source": [
    "np.where(arr2>5)\n",
    "# returns the tuple of corresponding indices where elements of arr2 are greater than 5"
   ]
  },
  {
   "cell_type": "code",
   "execution_count": 36,
   "id": "4b60135a",
   "metadata": {},
   "outputs": [
    {
     "data": {
      "text/plain": [
       "(array([0, 0, 1, 1, 2, 2], dtype=int64),\n",
       " array([1, 2, 0, 2, 0, 1], dtype=int64))"
      ]
     },
     "execution_count": 36,
     "metadata": {},
     "output_type": "execute_result"
    }
   ],
   "source": [
    "np.nonzero(arr2)\n",
    "# returns the tuple of corresponding indices where elements of arr2 are non-zero"
   ]
  },
  {
   "cell_type": "code",
   "execution_count": 37,
   "id": "088240c9",
   "metadata": {},
   "outputs": [
    {
     "data": {
      "text/plain": [
       "6"
      ]
     },
     "execution_count": 37,
     "metadata": {},
     "output_type": "execute_result"
    }
   ],
   "source": [
    "np.count_nonzero(arr2)"
   ]
  },
  {
   "cell_type": "markdown",
   "id": "81aa3bda",
   "metadata": {},
   "source": [
    "# How NumPy takes less memory"
   ]
  },
  {
   "cell_type": "code",
   "execution_count": 38,
   "id": "1e357af2",
   "metadata": {},
   "outputs": [],
   "source": [
    "import sys\n",
    "\n",
    "py_arr = [0, 1, 2, 3, 4, 5]\n",
    "\n",
    "np_arr = np.array(py_arr)"
   ]
  },
  {
   "cell_type": "code",
   "execution_count": 39,
   "id": "36defd1d",
   "metadata": {},
   "outputs": [
    {
     "data": {
      "text/plain": [
       "168"
      ]
     },
     "execution_count": 39,
     "metadata": {},
     "output_type": "execute_result"
    }
   ],
   "source": [
    "sys.getsizeof(1) * len(py_arr)\n",
    "# getting memory consumption of python list"
   ]
  },
  {
   "cell_type": "code",
   "execution_count": 40,
   "id": "3651fd27",
   "metadata": {},
   "outputs": [
    {
     "data": {
      "text/plain": [
       "24"
      ]
     },
     "execution_count": 40,
     "metadata": {},
     "output_type": "execute_result"
    }
   ],
   "source": [
    "np_arr.itemsize * np_arr.size\n",
    "# getting memory consumption of numpy array"
   ]
  },
  {
   "cell_type": "markdown",
   "id": "0c9b3600",
   "metadata": {},
   "source": [
    "just feel the difference 😎😎😎"
   ]
  }
 ],
 "metadata": {
  "kernelspec": {
   "display_name": "Python 3 (ipykernel)",
   "language": "python",
   "name": "python3"
  },
  "language_info": {
   "codemirror_mode": {
    "name": "ipython",
    "version": 3
   },
   "file_extension": ".py",
   "mimetype": "text/x-python",
   "name": "python",
   "nbconvert_exporter": "python",
   "pygments_lexer": "ipython3",
   "version": "3.10.6"
  }
 },
 "nbformat": 4,
 "nbformat_minor": 5
}
