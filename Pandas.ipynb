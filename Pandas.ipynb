{
 "cells": [
  {
   "cell_type": "markdown",
   "id": "1dd5b807",
   "metadata": {},
   "source": [
    "# Importing Pandas"
   ]
  },
  {
   "cell_type": "code",
   "execution_count": 1,
   "id": "8715cd01",
   "metadata": {},
   "outputs": [],
   "source": [
    "import numpy as np\n",
    "\n",
    "import pandas as pd"
   ]
  },
  {
   "cell_type": "markdown",
   "id": "c1d3f3cc",
   "metadata": {},
   "source": [
    "# Creation of DataFrames"
   ]
  },
  {
   "cell_type": "markdown",
   "id": "89ad2450",
   "metadata": {},
   "source": [
    "Creation from a python object"
   ]
  },
  {
   "cell_type": "code",
   "execution_count": 2,
   "id": "7ba191e8",
   "metadata": {},
   "outputs": [
    {
     "data": {
      "text/html": [
       "<div>\n",
       "<style scoped>\n",
       "    .dataframe tbody tr th:only-of-type {\n",
       "        vertical-align: middle;\n",
       "    }\n",
       "\n",
       "    .dataframe tbody tr th {\n",
       "        vertical-align: top;\n",
       "    }\n",
       "\n",
       "    .dataframe thead th {\n",
       "        text-align: right;\n",
       "    }\n",
       "</style>\n",
       "<table border=\"1\" class=\"dataframe\">\n",
       "  <thead>\n",
       "    <tr style=\"text-align: right;\">\n",
       "      <th></th>\n",
       "      <th>name</th>\n",
       "      <th>marks</th>\n",
       "      <th>city</th>\n",
       "    </tr>\n",
       "  </thead>\n",
       "  <tbody>\n",
       "    <tr>\n",
       "      <th>0</th>\n",
       "      <td>Pratham</td>\n",
       "      <td>92</td>\n",
       "      <td>Kanpur</td>\n",
       "    </tr>\n",
       "    <tr>\n",
       "      <th>1</th>\n",
       "      <td>Utkarsh</td>\n",
       "      <td>90</td>\n",
       "      <td>Sitapur</td>\n",
       "    </tr>\n",
       "    <tr>\n",
       "      <th>2</th>\n",
       "      <td>Shreyansh</td>\n",
       "      <td>91</td>\n",
       "      <td>Lucknow</td>\n",
       "    </tr>\n",
       "  </tbody>\n",
       "</table>\n",
       "</div>"
      ],
      "text/plain": [
       "        name  marks     city\n",
       "0    Pratham     92   Kanpur\n",
       "1    Utkarsh     90  Sitapur\n",
       "2  Shreyansh     91  Lucknow"
      ]
     },
     "execution_count": 2,
     "metadata": {},
     "output_type": "execute_result"
    }
   ],
   "source": [
    "dict1 = {\n",
    "    \"name\": [\"Pratham\", \"Utkarsh\", \"Shreyansh\"],\n",
    "    \"marks\": [92, 90, 91],\n",
    "    \"city\": [\"Kanpur\", \"Sitapur\", \"Lucknow\"]\n",
    "}\n",
    "\n",
    "df = pd.DataFrame(dict1)\n",
    "\n",
    "df"
   ]
  },
  {
   "cell_type": "markdown",
   "id": "5573924e",
   "metadata": {},
   "source": [
    "Creation from CSVs"
   ]
  },
  {
   "cell_type": "code",
   "execution_count": 3,
   "id": "c83ade0c",
   "metadata": {},
   "outputs": [],
   "source": [
    "dafr = pd.read_csv('eg2.csv')"
   ]
  },
  {
   "cell_type": "markdown",
   "id": "470e473d",
   "metadata": {},
   "source": [
    "# Exporting dataframe to CSV"
   ]
  },
  {
   "cell_type": "code",
   "execution_count": 4,
   "id": "ecd41d4b",
   "metadata": {},
   "outputs": [],
   "source": [
    "df.to_csv('eg1.csv')\n",
    "\n",
    "df.to_csv('eg3.csv', index = False)\n",
    "# this one creates without any index coloumn"
   ]
  },
  {
   "cell_type": "markdown",
   "id": "db55782c",
   "metadata": {},
   "source": [
    "# Basic Functions"
   ]
  },
  {
   "cell_type": "code",
   "execution_count": 5,
   "id": "463ec132",
   "metadata": {},
   "outputs": [
    {
     "data": {
      "text/html": [
       "<div>\n",
       "<style scoped>\n",
       "    .dataframe tbody tr th:only-of-type {\n",
       "        vertical-align: middle;\n",
       "    }\n",
       "\n",
       "    .dataframe tbody tr th {\n",
       "        vertical-align: top;\n",
       "    }\n",
       "\n",
       "    .dataframe thead th {\n",
       "        text-align: right;\n",
       "    }\n",
       "</style>\n",
       "<table border=\"1\" class=\"dataframe\">\n",
       "  <thead>\n",
       "    <tr style=\"text-align: right;\">\n",
       "      <th></th>\n",
       "      <th>name</th>\n",
       "      <th>marks</th>\n",
       "      <th>city</th>\n",
       "    </tr>\n",
       "  </thead>\n",
       "  <tbody>\n",
       "    <tr>\n",
       "      <th>0</th>\n",
       "      <td>Pratham</td>\n",
       "      <td>95</td>\n",
       "      <td>Kanpur</td>\n",
       "    </tr>\n",
       "    <tr>\n",
       "      <th>1</th>\n",
       "      <td>Utkarsh</td>\n",
       "      <td>90</td>\n",
       "      <td>Sitapur</td>\n",
       "    </tr>\n",
       "  </tbody>\n",
       "</table>\n",
       "</div>"
      ],
      "text/plain": [
       "      name  marks     city\n",
       "0  Pratham     95   Kanpur\n",
       "1  Utkarsh     90  Sitapur"
      ]
     },
     "execution_count": 5,
     "metadata": {},
     "output_type": "execute_result"
    }
   ],
   "source": [
    "dafr.head(2)"
   ]
  },
  {
   "cell_type": "code",
   "execution_count": 6,
   "id": "21d49da8",
   "metadata": {},
   "outputs": [
    {
     "data": {
      "text/html": [
       "<div>\n",
       "<style scoped>\n",
       "    .dataframe tbody tr th:only-of-type {\n",
       "        vertical-align: middle;\n",
       "    }\n",
       "\n",
       "    .dataframe tbody tr th {\n",
       "        vertical-align: top;\n",
       "    }\n",
       "\n",
       "    .dataframe thead th {\n",
       "        text-align: right;\n",
       "    }\n",
       "</style>\n",
       "<table border=\"1\" class=\"dataframe\">\n",
       "  <thead>\n",
       "    <tr style=\"text-align: right;\">\n",
       "      <th></th>\n",
       "      <th>name</th>\n",
       "      <th>marks</th>\n",
       "      <th>city</th>\n",
       "    </tr>\n",
       "  </thead>\n",
       "  <tbody>\n",
       "    <tr>\n",
       "      <th>1</th>\n",
       "      <td>Utkarsh</td>\n",
       "      <td>90</td>\n",
       "      <td>Sitapur</td>\n",
       "    </tr>\n",
       "    <tr>\n",
       "      <th>2</th>\n",
       "      <td>Shreyansh</td>\n",
       "      <td>91</td>\n",
       "      <td>Lucknow</td>\n",
       "    </tr>\n",
       "  </tbody>\n",
       "</table>\n",
       "</div>"
      ],
      "text/plain": [
       "        name  marks     city\n",
       "1    Utkarsh     90  Sitapur\n",
       "2  Shreyansh     91  Lucknow"
      ]
     },
     "execution_count": 6,
     "metadata": {},
     "output_type": "execute_result"
    }
   ],
   "source": [
    "dafr.tail(2)"
   ]
  },
  {
   "cell_type": "code",
   "execution_count": 7,
   "id": "b37d7c9a",
   "metadata": {},
   "outputs": [
    {
     "data": {
      "text/html": [
       "<div>\n",
       "<style scoped>\n",
       "    .dataframe tbody tr th:only-of-type {\n",
       "        vertical-align: middle;\n",
       "    }\n",
       "\n",
       "    .dataframe tbody tr th {\n",
       "        vertical-align: top;\n",
       "    }\n",
       "\n",
       "    .dataframe thead th {\n",
       "        text-align: right;\n",
       "    }\n",
       "</style>\n",
       "<table border=\"1\" class=\"dataframe\">\n",
       "  <thead>\n",
       "    <tr style=\"text-align: right;\">\n",
       "      <th></th>\n",
       "      <th>marks</th>\n",
       "    </tr>\n",
       "  </thead>\n",
       "  <tbody>\n",
       "    <tr>\n",
       "      <th>count</th>\n",
       "      <td>3.000000</td>\n",
       "    </tr>\n",
       "    <tr>\n",
       "      <th>mean</th>\n",
       "      <td>92.000000</td>\n",
       "    </tr>\n",
       "    <tr>\n",
       "      <th>std</th>\n",
       "      <td>2.645751</td>\n",
       "    </tr>\n",
       "    <tr>\n",
       "      <th>min</th>\n",
       "      <td>90.000000</td>\n",
       "    </tr>\n",
       "    <tr>\n",
       "      <th>25%</th>\n",
       "      <td>90.500000</td>\n",
       "    </tr>\n",
       "    <tr>\n",
       "      <th>50%</th>\n",
       "      <td>91.000000</td>\n",
       "    </tr>\n",
       "    <tr>\n",
       "      <th>75%</th>\n",
       "      <td>93.000000</td>\n",
       "    </tr>\n",
       "    <tr>\n",
       "      <th>max</th>\n",
       "      <td>95.000000</td>\n",
       "    </tr>\n",
       "  </tbody>\n",
       "</table>\n",
       "</div>"
      ],
      "text/plain": [
       "           marks\n",
       "count   3.000000\n",
       "mean   92.000000\n",
       "std     2.645751\n",
       "min    90.000000\n",
       "25%    90.500000\n",
       "50%    91.000000\n",
       "75%    93.000000\n",
       "max    95.000000"
      ]
     },
     "execution_count": 7,
     "metadata": {},
     "output_type": "execute_result"
    }
   ],
   "source": [
    "dafr.describe()"
   ]
  },
  {
   "cell_type": "code",
   "execution_count": 8,
   "id": "8d5d4fcc",
   "metadata": {},
   "outputs": [
    {
     "name": "stderr",
     "output_type": "stream",
     "text": [
      "C:\\Users\\prath\\AppData\\Local\\Temp\\ipykernel_18520\\664463831.py:3: SettingWithCopyWarning: \n",
      "A value is trying to be set on a copy of a slice from a DataFrame\n",
      "\n",
      "See the caveats in the documentation: https://pandas.pydata.org/pandas-docs/stable/user_guide/indexing.html#returning-a-view-versus-a-copy\n",
      "  dafr[\"marks\"][0] = 96\n"
     ]
    },
    {
     "data": {
      "text/html": [
       "<div>\n",
       "<style scoped>\n",
       "    .dataframe tbody tr th:only-of-type {\n",
       "        vertical-align: middle;\n",
       "    }\n",
       "\n",
       "    .dataframe tbody tr th {\n",
       "        vertical-align: top;\n",
       "    }\n",
       "\n",
       "    .dataframe thead th {\n",
       "        text-align: right;\n",
       "    }\n",
       "</style>\n",
       "<table border=\"1\" class=\"dataframe\">\n",
       "  <thead>\n",
       "    <tr style=\"text-align: right;\">\n",
       "      <th></th>\n",
       "      <th>name</th>\n",
       "      <th>marks</th>\n",
       "      <th>city</th>\n",
       "    </tr>\n",
       "  </thead>\n",
       "  <tbody>\n",
       "    <tr>\n",
       "      <th>0</th>\n",
       "      <td>Pratham</td>\n",
       "      <td>96</td>\n",
       "      <td>Kanpur</td>\n",
       "    </tr>\n",
       "    <tr>\n",
       "      <th>1</th>\n",
       "      <td>Utkarsh</td>\n",
       "      <td>90</td>\n",
       "      <td>Sitapur</td>\n",
       "    </tr>\n",
       "    <tr>\n",
       "      <th>2</th>\n",
       "      <td>Shreyansh</td>\n",
       "      <td>91</td>\n",
       "      <td>Lucknow</td>\n",
       "    </tr>\n",
       "  </tbody>\n",
       "</table>\n",
       "</div>"
      ],
      "text/plain": [
       "        name  marks     city\n",
       "0    Pratham     96   Kanpur\n",
       "1    Utkarsh     90  Sitapur\n",
       "2  Shreyansh     91  Lucknow"
      ]
     },
     "execution_count": 8,
     "metadata": {},
     "output_type": "execute_result"
    }
   ],
   "source": [
    "# changing values at cells\n",
    "\n",
    "dafr[\"marks\"][0] = 96\n",
    "\n",
    "dafr.to_csv('eg3.csv') # flushing the change into csv\n",
    "\n",
    "dafr"
   ]
  },
  {
   "cell_type": "code",
   "execution_count": 9,
   "id": "21ffd98f",
   "metadata": {},
   "outputs": [
    {
     "data": {
      "text/html": [
       "<div>\n",
       "<style scoped>\n",
       "    .dataframe tbody tr th:only-of-type {\n",
       "        vertical-align: middle;\n",
       "    }\n",
       "\n",
       "    .dataframe tbody tr th {\n",
       "        vertical-align: top;\n",
       "    }\n",
       "\n",
       "    .dataframe thead th {\n",
       "        text-align: right;\n",
       "    }\n",
       "</style>\n",
       "<table border=\"1\" class=\"dataframe\">\n",
       "  <thead>\n",
       "    <tr style=\"text-align: right;\">\n",
       "      <th></th>\n",
       "      <th>name</th>\n",
       "      <th>marks</th>\n",
       "      <th>city</th>\n",
       "    </tr>\n",
       "  </thead>\n",
       "  <tbody>\n",
       "    <tr>\n",
       "      <th>zeroth</th>\n",
       "      <td>Pratham</td>\n",
       "      <td>96</td>\n",
       "      <td>Kanpur</td>\n",
       "    </tr>\n",
       "    <tr>\n",
       "      <th>first</th>\n",
       "      <td>Utkarsh</td>\n",
       "      <td>90</td>\n",
       "      <td>Sitapur</td>\n",
       "    </tr>\n",
       "    <tr>\n",
       "      <th>second</th>\n",
       "      <td>Shreyansh</td>\n",
       "      <td>91</td>\n",
       "      <td>Lucknow</td>\n",
       "    </tr>\n",
       "  </tbody>\n",
       "</table>\n",
       "</div>"
      ],
      "text/plain": [
       "             name  marks     city\n",
       "zeroth    Pratham     96   Kanpur\n",
       "first     Utkarsh     90  Sitapur\n",
       "second  Shreyansh     91  Lucknow"
      ]
     },
     "execution_count": 9,
     "metadata": {},
     "output_type": "execute_result"
    }
   ],
   "source": [
    "dafr.index = [\"zeroth\", \"first\", \"second\"]\n",
    "\n",
    "dafr"
   ]
  },
  {
   "cell_type": "code",
   "execution_count": 10,
   "id": "fccf4e15",
   "metadata": {},
   "outputs": [
    {
     "data": {
      "text/plain": [
       "array([['Pratham', 96, 'Kanpur'],\n",
       "       ['Utkarsh', 90, 'Sitapur'],\n",
       "       ['Shreyansh', 91, 'Lucknow']], dtype=object)"
      ]
     },
     "execution_count": 10,
     "metadata": {},
     "output_type": "execute_result"
    }
   ],
   "source": [
    "dafr.to_numpy()\n",
    "# changes the pandas DataFrame to numpy array/object"
   ]
  },
  {
   "cell_type": "markdown",
   "id": "aabe9b3b",
   "metadata": {},
   "source": [
    "# Pandas Data Structure"
   ]
  },
  {
   "cell_type": "markdown",
   "id": "b55b3d9c",
   "metadata": {},
   "source": [
    "Series - Series refers to one dimensional data structures. May it be a single row or a coloumn. \n",
    "         They always contain data of similar datatype.\n",
    "\n",
    "DataFrame - DataFrame refers to the whole two dimensional structure containing multiple rows and coloumns.\n",
    "            Thay contain data of many different datatypes."
   ]
  },
  {
   "cell_type": "code",
   "execution_count": 11,
   "id": "dfaad62b",
   "metadata": {},
   "outputs": [
    {
     "name": "stdout",
     "output_type": "stream",
     "text": [
      "<class 'pandas.core.series.Series'>\n"
     ]
    },
    {
     "data": {
      "text/plain": [
       "0    0.066531\n",
       "1    0.674875\n",
       "2    0.560481\n",
       "3    0.890320\n",
       "4    0.442227\n",
       "dtype: float64"
      ]
     },
     "execution_count": 11,
     "metadata": {},
     "output_type": "execute_result"
    }
   ],
   "source": [
    "ser = pd.Series(np.random.rand(5))\n",
    "\n",
    "print(type(ser))\n",
    "\n",
    "ser"
   ]
  },
  {
   "cell_type": "code",
   "execution_count": 12,
   "id": "a64b5a93",
   "metadata": {},
   "outputs": [
    {
     "name": "stdout",
     "output_type": "stream",
     "text": [
      "<class 'pandas.core.frame.DataFrame'>\n",
      "<class 'pandas.core.series.Series'>\n"
     ]
    },
    {
     "data": {
      "text/html": [
       "<div>\n",
       "<style scoped>\n",
       "    .dataframe tbody tr th:only-of-type {\n",
       "        vertical-align: middle;\n",
       "    }\n",
       "\n",
       "    .dataframe tbody tr th {\n",
       "        vertical-align: top;\n",
       "    }\n",
       "\n",
       "    .dataframe thead th {\n",
       "        text-align: right;\n",
       "    }\n",
       "</style>\n",
       "<table border=\"1\" class=\"dataframe\">\n",
       "  <thead>\n",
       "    <tr style=\"text-align: right;\">\n",
       "      <th></th>\n",
       "      <th>0</th>\n",
       "      <th>1</th>\n",
       "      <th>2</th>\n",
       "      <th>3</th>\n",
       "      <th>4</th>\n",
       "    </tr>\n",
       "  </thead>\n",
       "  <tbody>\n",
       "    <tr>\n",
       "      <th>0</th>\n",
       "      <td>0.604004</td>\n",
       "      <td>0.377366</td>\n",
       "      <td>0.405540</td>\n",
       "      <td>0.237006</td>\n",
       "      <td>0.025481</td>\n",
       "    </tr>\n",
       "    <tr>\n",
       "      <th>1</th>\n",
       "      <td>0.302459</td>\n",
       "      <td>0.049076</td>\n",
       "      <td>0.908400</td>\n",
       "      <td>0.396762</td>\n",
       "      <td>0.455881</td>\n",
       "    </tr>\n",
       "    <tr>\n",
       "      <th>2</th>\n",
       "      <td>0.426805</td>\n",
       "      <td>0.865095</td>\n",
       "      <td>0.431399</td>\n",
       "      <td>0.201936</td>\n",
       "      <td>0.784481</td>\n",
       "    </tr>\n",
       "    <tr>\n",
       "      <th>3</th>\n",
       "      <td>0.712978</td>\n",
       "      <td>0.910919</td>\n",
       "      <td>0.934989</td>\n",
       "      <td>0.402459</td>\n",
       "      <td>0.942392</td>\n",
       "    </tr>\n",
       "    <tr>\n",
       "      <th>4</th>\n",
       "      <td>0.047410</td>\n",
       "      <td>0.647865</td>\n",
       "      <td>0.147949</td>\n",
       "      <td>0.999761</td>\n",
       "      <td>0.167011</td>\n",
       "    </tr>\n",
       "    <tr>\n",
       "      <th>...</th>\n",
       "      <td>...</td>\n",
       "      <td>...</td>\n",
       "      <td>...</td>\n",
       "      <td>...</td>\n",
       "      <td>...</td>\n",
       "    </tr>\n",
       "    <tr>\n",
       "      <th>195</th>\n",
       "      <td>0.436273</td>\n",
       "      <td>0.598410</td>\n",
       "      <td>0.121860</td>\n",
       "      <td>0.116263</td>\n",
       "      <td>0.049573</td>\n",
       "    </tr>\n",
       "    <tr>\n",
       "      <th>196</th>\n",
       "      <td>0.786359</td>\n",
       "      <td>0.477013</td>\n",
       "      <td>0.765064</td>\n",
       "      <td>0.892292</td>\n",
       "      <td>0.857685</td>\n",
       "    </tr>\n",
       "    <tr>\n",
       "      <th>197</th>\n",
       "      <td>0.194662</td>\n",
       "      <td>0.324571</td>\n",
       "      <td>0.144850</td>\n",
       "      <td>0.157605</td>\n",
       "      <td>0.506618</td>\n",
       "    </tr>\n",
       "    <tr>\n",
       "      <th>198</th>\n",
       "      <td>0.719622</td>\n",
       "      <td>0.707832</td>\n",
       "      <td>0.947345</td>\n",
       "      <td>0.128997</td>\n",
       "      <td>0.516320</td>\n",
       "    </tr>\n",
       "    <tr>\n",
       "      <th>199</th>\n",
       "      <td>0.822657</td>\n",
       "      <td>0.352411</td>\n",
       "      <td>0.361754</td>\n",
       "      <td>0.776716</td>\n",
       "      <td>0.580889</td>\n",
       "    </tr>\n",
       "  </tbody>\n",
       "</table>\n",
       "<p>200 rows × 5 columns</p>\n",
       "</div>"
      ],
      "text/plain": [
       "            0         1         2         3         4\n",
       "0    0.604004  0.377366  0.405540  0.237006  0.025481\n",
       "1    0.302459  0.049076  0.908400  0.396762  0.455881\n",
       "2    0.426805  0.865095  0.431399  0.201936  0.784481\n",
       "3    0.712978  0.910919  0.934989  0.402459  0.942392\n",
       "4    0.047410  0.647865  0.147949  0.999761  0.167011\n",
       "..        ...       ...       ...       ...       ...\n",
       "195  0.436273  0.598410  0.121860  0.116263  0.049573\n",
       "196  0.786359  0.477013  0.765064  0.892292  0.857685\n",
       "197  0.194662  0.324571  0.144850  0.157605  0.506618\n",
       "198  0.719622  0.707832  0.947345  0.128997  0.516320\n",
       "199  0.822657  0.352411  0.361754  0.776716  0.580889\n",
       "\n",
       "[200 rows x 5 columns]"
      ]
     },
     "execution_count": 12,
     "metadata": {},
     "output_type": "execute_result"
    }
   ],
   "source": [
    "newdf = pd.DataFrame(np.random.rand(200,5), index = np.arange(200))\n",
    "\n",
    "print(type(newdf))\n",
    "# thus we see that this is a DataFrame data structure\n",
    "\n",
    "print(type(newdf[0]))\n",
    "# thus we can see that a coloumn is a series data structure\n",
    "\n",
    "newdf"
   ]
  },
  {
   "cell_type": "markdown",
   "id": "13558699",
   "metadata": {},
   "source": [
    "# Shallow Copy (View) & Deep Copy of a DataFrame"
   ]
  },
  {
   "cell_type": "markdown",
   "id": "7f882f38",
   "metadata": {},
   "source": [
    "When we make changes to a copied (directly assigned) DataFrame, they are reflected into the original DataFrame too."
   ]
  },
  {
   "cell_type": "code",
   "execution_count": 13,
   "id": "45512514",
   "metadata": {},
   "outputs": [
    {
     "data": {
      "text/html": [
       "<div>\n",
       "<style scoped>\n",
       "    .dataframe tbody tr th:only-of-type {\n",
       "        vertical-align: middle;\n",
       "    }\n",
       "\n",
       "    .dataframe tbody tr th {\n",
       "        vertical-align: top;\n",
       "    }\n",
       "\n",
       "    .dataframe thead th {\n",
       "        text-align: right;\n",
       "    }\n",
       "</style>\n",
       "<table border=\"1\" class=\"dataframe\">\n",
       "  <thead>\n",
       "    <tr style=\"text-align: right;\">\n",
       "      <th></th>\n",
       "      <th>0</th>\n",
       "      <th>1</th>\n",
       "      <th>2</th>\n",
       "      <th>3</th>\n",
       "      <th>4</th>\n",
       "    </tr>\n",
       "  </thead>\n",
       "  <tbody>\n",
       "    <tr>\n",
       "      <th>0</th>\n",
       "      <td>12345.000000</td>\n",
       "      <td>0.377366</td>\n",
       "      <td>0.405540</td>\n",
       "      <td>0.237006</td>\n",
       "      <td>0.025481</td>\n",
       "    </tr>\n",
       "    <tr>\n",
       "      <th>1</th>\n",
       "      <td>0.302459</td>\n",
       "      <td>0.049076</td>\n",
       "      <td>0.908400</td>\n",
       "      <td>0.396762</td>\n",
       "      <td>0.455881</td>\n",
       "    </tr>\n",
       "    <tr>\n",
       "      <th>2</th>\n",
       "      <td>0.426805</td>\n",
       "      <td>0.865095</td>\n",
       "      <td>0.431399</td>\n",
       "      <td>0.201936</td>\n",
       "      <td>0.784481</td>\n",
       "    </tr>\n",
       "    <tr>\n",
       "      <th>3</th>\n",
       "      <td>0.712978</td>\n",
       "      <td>0.910919</td>\n",
       "      <td>0.934989</td>\n",
       "      <td>0.402459</td>\n",
       "      <td>0.942392</td>\n",
       "    </tr>\n",
       "    <tr>\n",
       "      <th>4</th>\n",
       "      <td>0.047410</td>\n",
       "      <td>0.647865</td>\n",
       "      <td>0.147949</td>\n",
       "      <td>0.999761</td>\n",
       "      <td>0.167011</td>\n",
       "    </tr>\n",
       "  </tbody>\n",
       "</table>\n",
       "</div>"
      ],
      "text/plain": [
       "              0         1         2         3         4\n",
       "0  12345.000000  0.377366  0.405540  0.237006  0.025481\n",
       "1      0.302459  0.049076  0.908400  0.396762  0.455881\n",
       "2      0.426805  0.865095  0.431399  0.201936  0.784481\n",
       "3      0.712978  0.910919  0.934989  0.402459  0.942392\n",
       "4      0.047410  0.647865  0.147949  0.999761  0.167011"
      ]
     },
     "execution_count": 13,
     "metadata": {},
     "output_type": "execute_result"
    }
   ],
   "source": [
    "newdf2 = newdf\n",
    "# making a copy\n",
    "\n",
    "newdf2[0][0] = 12345\n",
    "# changing cell value of copied DataFrame\n",
    "\n",
    "newdf.head()"
   ]
  },
  {
   "cell_type": "markdown",
   "id": "a89ab135",
   "metadata": {},
   "source": [
    "For a Deep copy we need to use the .copy() function"
   ]
  },
  {
   "cell_type": "code",
   "execution_count": 14,
   "id": "fd7487f2",
   "metadata": {
    "scrolled": false
   },
   "outputs": [
    {
     "data": {
      "text/html": [
       "<div>\n",
       "<style scoped>\n",
       "    .dataframe tbody tr th:only-of-type {\n",
       "        vertical-align: middle;\n",
       "    }\n",
       "\n",
       "    .dataframe tbody tr th {\n",
       "        vertical-align: top;\n",
       "    }\n",
       "\n",
       "    .dataframe thead th {\n",
       "        text-align: right;\n",
       "    }\n",
       "</style>\n",
       "<table border=\"1\" class=\"dataframe\">\n",
       "  <thead>\n",
       "    <tr style=\"text-align: right;\">\n",
       "      <th></th>\n",
       "      <th>0</th>\n",
       "      <th>1</th>\n",
       "      <th>2</th>\n",
       "      <th>3</th>\n",
       "      <th>4</th>\n",
       "    </tr>\n",
       "  </thead>\n",
       "  <tbody>\n",
       "    <tr>\n",
       "      <th>0</th>\n",
       "      <td>12345.000000</td>\n",
       "      <td>0.377366</td>\n",
       "      <td>0.405540</td>\n",
       "      <td>0.237006</td>\n",
       "      <td>0.025481</td>\n",
       "    </tr>\n",
       "    <tr>\n",
       "      <th>1</th>\n",
       "      <td>0.302459</td>\n",
       "      <td>0.049076</td>\n",
       "      <td>0.908400</td>\n",
       "      <td>0.396762</td>\n",
       "      <td>0.455881</td>\n",
       "    </tr>\n",
       "    <tr>\n",
       "      <th>2</th>\n",
       "      <td>0.426805</td>\n",
       "      <td>0.865095</td>\n",
       "      <td>0.431399</td>\n",
       "      <td>0.201936</td>\n",
       "      <td>0.784481</td>\n",
       "    </tr>\n",
       "    <tr>\n",
       "      <th>3</th>\n",
       "      <td>0.712978</td>\n",
       "      <td>0.910919</td>\n",
       "      <td>0.934989</td>\n",
       "      <td>0.402459</td>\n",
       "      <td>0.942392</td>\n",
       "    </tr>\n",
       "    <tr>\n",
       "      <th>4</th>\n",
       "      <td>0.047410</td>\n",
       "      <td>0.647865</td>\n",
       "      <td>0.147949</td>\n",
       "      <td>0.999761</td>\n",
       "      <td>0.167011</td>\n",
       "    </tr>\n",
       "  </tbody>\n",
       "</table>\n",
       "</div>"
      ],
      "text/plain": [
       "              0         1         2         3         4\n",
       "0  12345.000000  0.377366  0.405540  0.237006  0.025481\n",
       "1      0.302459  0.049076  0.908400  0.396762  0.455881\n",
       "2      0.426805  0.865095  0.431399  0.201936  0.784481\n",
       "3      0.712978  0.910919  0.934989  0.402459  0.942392\n",
       "4      0.047410  0.647865  0.147949  0.999761  0.167011"
      ]
     },
     "execution_count": 14,
     "metadata": {},
     "output_type": "execute_result"
    }
   ],
   "source": [
    "newdf2 = newdf.copy()\n",
    "\n",
    "newdf2[0][0] = 45678\n",
    "# changing the cell value of copied DataFrame\n",
    "\n",
    "newdf.head()"
   ]
  },
  {
   "cell_type": "markdown",
   "id": "7fd98241",
   "metadata": {},
   "source": [
    "As we see that changing the cell value like dafr[0][0] = 546 gives a warning of slicing and cannot determine when to display view or copy thus we use .loc() function to change the value of cell "
   ]
  },
  {
   "cell_type": "code",
   "execution_count": 15,
   "id": "9dc1aaaf",
   "metadata": {},
   "outputs": [
    {
     "data": {
      "text/html": [
       "<div>\n",
       "<style scoped>\n",
       "    .dataframe tbody tr th:only-of-type {\n",
       "        vertical-align: middle;\n",
       "    }\n",
       "\n",
       "    .dataframe tbody tr th {\n",
       "        vertical-align: top;\n",
       "    }\n",
       "\n",
       "    .dataframe thead th {\n",
       "        text-align: right;\n",
       "    }\n",
       "</style>\n",
       "<table border=\"1\" class=\"dataframe\">\n",
       "  <thead>\n",
       "    <tr style=\"text-align: right;\">\n",
       "      <th></th>\n",
       "      <th>0</th>\n",
       "      <th>1</th>\n",
       "      <th>2</th>\n",
       "      <th>3</th>\n",
       "      <th>4</th>\n",
       "    </tr>\n",
       "  </thead>\n",
       "  <tbody>\n",
       "    <tr>\n",
       "      <th>0</th>\n",
       "      <td>654.000000</td>\n",
       "      <td>0.377366</td>\n",
       "      <td>0.405540</td>\n",
       "      <td>0.237006</td>\n",
       "      <td>0.025481</td>\n",
       "    </tr>\n",
       "    <tr>\n",
       "      <th>1</th>\n",
       "      <td>0.302459</td>\n",
       "      <td>0.049076</td>\n",
       "      <td>0.908400</td>\n",
       "      <td>0.396762</td>\n",
       "      <td>0.455881</td>\n",
       "    </tr>\n",
       "    <tr>\n",
       "      <th>2</th>\n",
       "      <td>0.426805</td>\n",
       "      <td>0.865095</td>\n",
       "      <td>0.431399</td>\n",
       "      <td>0.201936</td>\n",
       "      <td>0.784481</td>\n",
       "    </tr>\n",
       "    <tr>\n",
       "      <th>3</th>\n",
       "      <td>0.712978</td>\n",
       "      <td>0.910919</td>\n",
       "      <td>0.934989</td>\n",
       "      <td>0.402459</td>\n",
       "      <td>0.942392</td>\n",
       "    </tr>\n",
       "    <tr>\n",
       "      <th>4</th>\n",
       "      <td>0.047410</td>\n",
       "      <td>0.647865</td>\n",
       "      <td>0.147949</td>\n",
       "      <td>0.999761</td>\n",
       "      <td>0.167011</td>\n",
       "    </tr>\n",
       "  </tbody>\n",
       "</table>\n",
       "</div>"
      ],
      "text/plain": [
       "            0         1         2         3         4\n",
       "0  654.000000  0.377366  0.405540  0.237006  0.025481\n",
       "1    0.302459  0.049076  0.908400  0.396762  0.455881\n",
       "2    0.426805  0.865095  0.431399  0.201936  0.784481\n",
       "3    0.712978  0.910919  0.934989  0.402459  0.942392\n",
       "4    0.047410  0.647865  0.147949  0.999761  0.167011"
      ]
     },
     "execution_count": 15,
     "metadata": {},
     "output_type": "execute_result"
    }
   ],
   "source": [
    "newdf.loc[0, 0] = 654\n",
    "# changing the value at (0, 0) cell of newdf DataFrame\n",
    "\n",
    "newdf.head()"
   ]
  },
  {
   "cell_type": "markdown",
   "id": "4ab08a55",
   "metadata": {},
   "source": [
    "# Dropping a Column or a Row from a DataFrame"
   ]
  },
  {
   "cell_type": "markdown",
   "id": "5b8482eb",
   "metadata": {},
   "source": [
    "We can use the .drop() function to delete a particular column or a row from the DataFrame"
   ]
  },
  {
   "cell_type": "code",
   "execution_count": 16,
   "id": "250d0d31",
   "metadata": {},
   "outputs": [
    {
     "data": {
      "text/html": [
       "<div>\n",
       "<style scoped>\n",
       "    .dataframe tbody tr th:only-of-type {\n",
       "        vertical-align: middle;\n",
       "    }\n",
       "\n",
       "    .dataframe tbody tr th {\n",
       "        vertical-align: top;\n",
       "    }\n",
       "\n",
       "    .dataframe thead th {\n",
       "        text-align: right;\n",
       "    }\n",
       "</style>\n",
       "<table border=\"1\" class=\"dataframe\">\n",
       "  <thead>\n",
       "    <tr style=\"text-align: right;\">\n",
       "      <th></th>\n",
       "      <th>0</th>\n",
       "      <th>1</th>\n",
       "      <th>2</th>\n",
       "      <th>3</th>\n",
       "    </tr>\n",
       "  </thead>\n",
       "  <tbody>\n",
       "    <tr>\n",
       "      <th>0</th>\n",
       "      <td>654.000000</td>\n",
       "      <td>0.377366</td>\n",
       "      <td>0.405540</td>\n",
       "      <td>0.237006</td>\n",
       "    </tr>\n",
       "    <tr>\n",
       "      <th>1</th>\n",
       "      <td>0.302459</td>\n",
       "      <td>0.049076</td>\n",
       "      <td>0.908400</td>\n",
       "      <td>0.396762</td>\n",
       "    </tr>\n",
       "    <tr>\n",
       "      <th>2</th>\n",
       "      <td>0.426805</td>\n",
       "      <td>0.865095</td>\n",
       "      <td>0.431399</td>\n",
       "      <td>0.201936</td>\n",
       "    </tr>\n",
       "  </tbody>\n",
       "</table>\n",
       "</div>"
      ],
      "text/plain": [
       "            0         1         2         3\n",
       "0  654.000000  0.377366  0.405540  0.237006\n",
       "1    0.302459  0.049076  0.908400  0.396762\n",
       "2    0.426805  0.865095  0.431399  0.201936"
      ]
     },
     "execution_count": 16,
     "metadata": {},
     "output_type": "execute_result"
    }
   ],
   "source": [
    "newdf = newdf.drop(4, axis = 1)\n",
    "# using axis = 1 for coloumns \n",
    "# also axis = 0 is used for deleting rows\n",
    "\n",
    "newdf.head(3)"
   ]
  },
  {
   "cell_type": "markdown",
   "id": "d3194ec3",
   "metadata": {},
   "source": [
    "# Running Queries on DataFrames"
   ]
  },
  {
   "cell_type": "markdown",
   "id": "3e5a37b9",
   "metadata": {},
   "source": [
    "We can query a DataFrame in the same way as we query a database"
   ]
  },
  {
   "cell_type": "code",
   "execution_count": 17,
   "id": "ddf952c7",
   "metadata": {},
   "outputs": [
    {
     "name": "stdout",
     "output_type": "stream",
     "text": [
      "654.0\n",
      "\n",
      "            0         1\n",
      "0  654.000000  0.377366\n",
      "1    0.302459  0.049076\n",
      "2    0.426805  0.865095\n",
      "\n",
      "          0         1         2         3\n",
      "1  0.302459  0.049076  0.908400  0.396762\n",
      "3  0.712978  0.910919  0.934989  0.402459\n",
      "5  0.336489  0.930926  0.311172  0.033386\n",
      "\n",
      "            1         3\n",
      "0    0.377366  0.237006\n",
      "1    0.049076  0.396762\n",
      "2    0.865095  0.201936\n",
      "3    0.910919  0.402459\n",
      "4    0.647865  0.999761\n",
      "..        ...       ...\n",
      "195  0.598410  0.116263\n",
      "196  0.477013  0.892292\n",
      "197  0.324571  0.157605\n",
      "198  0.707832  0.128997\n",
      "199  0.352411  0.776716\n",
      "\n",
      "[200 rows x 2 columns]\n"
     ]
    }
   ],
   "source": [
    "# selecting a particular cell\n",
    "print(newdf.loc[0, 0])\n",
    "print()\n",
    "\n",
    "# selecting particular rows and particular columns\n",
    "\n",
    "print(newdf.loc[[0,1,2], [0,1]])\n",
    "\n",
    "print()\n",
    "\n",
    "# selecting particular rows and all columns\n",
    "\n",
    "print(newdf.loc[[1, 3, 5] , :])\n",
    "\n",
    "print()\n",
    "\n",
    "# selecting all rows and particular columns\n",
    "\n",
    "print(newdf.loc[: , [1, 3]])"
   ]
  },
  {
   "cell_type": "markdown",
   "id": "f8bed795",
   "metadata": {},
   "source": [
    "Running complex queries:"
   ]
  },
  {
   "cell_type": "code",
   "execution_count": 18,
   "id": "d050173c",
   "metadata": {},
   "outputs": [
    {
     "name": "stdout",
     "output_type": "stream",
     "text": [
      "            0         1         2         3\n",
      "1    0.302459  0.049076  0.908400  0.396762\n",
      "2    0.426805  0.865095  0.431399  0.201936\n",
      "3    0.712978  0.910919  0.934989  0.402459\n",
      "4    0.047410  0.647865  0.147949  0.999761\n",
      "5    0.336489  0.930926  0.311172  0.033386\n",
      "..        ...       ...       ...       ...\n",
      "194  0.344229  0.450295  0.093813  0.693153\n",
      "195  0.436273  0.598410  0.121860  0.116263\n",
      "196  0.786359  0.477013  0.765064  0.892292\n",
      "197  0.194662  0.324571  0.144850  0.157605\n",
      "198  0.719622  0.707832  0.947345  0.128997\n",
      "\n",
      "[160 rows x 4 columns]\n",
      "\n",
      "            0         1         2         3\n",
      "2    0.426805  0.865095  0.431399  0.201936\n",
      "3    0.712978  0.910919  0.934989  0.402459\n",
      "4    0.047410  0.647865  0.147949  0.999761\n",
      "5    0.336489  0.930926  0.311172  0.033386\n",
      "6    0.149721  0.688935  0.065697  0.643000\n",
      "..        ...       ...       ...       ...\n",
      "185  0.191025  0.859240  0.199273  0.805456\n",
      "189  0.336541  0.972459  0.671848  0.478052\n",
      "191  0.499460  0.952349  0.329848  0.650840\n",
      "192  0.473241  0.749687  0.360812  0.549596\n",
      "198  0.719622  0.707832  0.947345  0.128997\n",
      "\n",
      "[72 rows x 4 columns]\n"
     ]
    }
   ],
   "source": [
    "print(newdf.loc[newdf[0]<0.8])\n",
    "\n",
    "print()\n",
    "\n",
    "print(newdf.loc[(newdf[0]<0.8) & (newdf[1]>0.6)])"
   ]
  },
  {
   "cell_type": "markdown",
   "id": "0868c5f0",
   "metadata": {},
   "source": [
    "# iloc : a special function\n"
   ]
  },
  {
   "cell_type": "markdown",
   "id": "38fc3c26",
   "metadata": {},
   "source": [
    "When we use .loc, we have to clearly specify our column/row names but while using iloc we can just use the indexing of columns or rows. for eg."
   ]
  },
  {
   "cell_type": "code",
   "execution_count": 19,
   "id": "3227c72a",
   "metadata": {},
   "outputs": [
    {
     "name": "stdout",
     "output_type": "stream",
     "text": [
      "Pratham\n",
      "\n",
      "Pratham\n"
     ]
    }
   ],
   "source": [
    "print(dafr.loc['zeroth', 'name'])\n",
    "\n",
    "print()\n",
    "\n",
    "print(dafr.iloc[0, 0])"
   ]
  },
  {
   "cell_type": "markdown",
   "id": "85a17bef",
   "metadata": {},
   "source": [
    "# inplace : a special parameter"
   ]
  },
  {
   "cell_type": "markdown",
   "id": "e42609af",
   "metadata": {},
   "source": [
    "For example if we have to delete a column from a dataframe and modify the changes into the original dataframe, we had to reassign the changed dataframe.\n",
    "But using the inplace attribute we can do so without reassigning the change."
   ]
  },
  {
   "cell_type": "code",
   "execution_count": 20,
   "id": "4ddb98f4",
   "metadata": {},
   "outputs": [
    {
     "data": {
      "text/html": [
       "<div>\n",
       "<style scoped>\n",
       "    .dataframe tbody tr th:only-of-type {\n",
       "        vertical-align: middle;\n",
       "    }\n",
       "\n",
       "    .dataframe tbody tr th {\n",
       "        vertical-align: top;\n",
       "    }\n",
       "\n",
       "    .dataframe thead th {\n",
       "        text-align: right;\n",
       "    }\n",
       "</style>\n",
       "<table border=\"1\" class=\"dataframe\">\n",
       "  <thead>\n",
       "    <tr style=\"text-align: right;\">\n",
       "      <th></th>\n",
       "      <th>0</th>\n",
       "      <th>1</th>\n",
       "    </tr>\n",
       "  </thead>\n",
       "  <tbody>\n",
       "    <tr>\n",
       "      <th>0</th>\n",
       "      <td>654.000000</td>\n",
       "      <td>0.377366</td>\n",
       "    </tr>\n",
       "    <tr>\n",
       "      <th>1</th>\n",
       "      <td>0.302459</td>\n",
       "      <td>0.049076</td>\n",
       "    </tr>\n",
       "    <tr>\n",
       "      <th>2</th>\n",
       "      <td>0.426805</td>\n",
       "      <td>0.865095</td>\n",
       "    </tr>\n",
       "    <tr>\n",
       "      <th>3</th>\n",
       "      <td>0.712978</td>\n",
       "      <td>0.910919</td>\n",
       "    </tr>\n",
       "    <tr>\n",
       "      <th>4</th>\n",
       "      <td>0.047410</td>\n",
       "      <td>0.647865</td>\n",
       "    </tr>\n",
       "    <tr>\n",
       "      <th>...</th>\n",
       "      <td>...</td>\n",
       "      <td>...</td>\n",
       "    </tr>\n",
       "    <tr>\n",
       "      <th>195</th>\n",
       "      <td>0.436273</td>\n",
       "      <td>0.598410</td>\n",
       "    </tr>\n",
       "    <tr>\n",
       "      <th>196</th>\n",
       "      <td>0.786359</td>\n",
       "      <td>0.477013</td>\n",
       "    </tr>\n",
       "    <tr>\n",
       "      <th>197</th>\n",
       "      <td>0.194662</td>\n",
       "      <td>0.324571</td>\n",
       "    </tr>\n",
       "    <tr>\n",
       "      <th>198</th>\n",
       "      <td>0.719622</td>\n",
       "      <td>0.707832</td>\n",
       "    </tr>\n",
       "    <tr>\n",
       "      <th>199</th>\n",
       "      <td>0.822657</td>\n",
       "      <td>0.352411</td>\n",
       "    </tr>\n",
       "  </tbody>\n",
       "</table>\n",
       "<p>200 rows × 2 columns</p>\n",
       "</div>"
      ],
      "text/plain": [
       "              0         1\n",
       "0    654.000000  0.377366\n",
       "1      0.302459  0.049076\n",
       "2      0.426805  0.865095\n",
       "3      0.712978  0.910919\n",
       "4      0.047410  0.647865\n",
       "..          ...       ...\n",
       "195    0.436273  0.598410\n",
       "196    0.786359  0.477013\n",
       "197    0.194662  0.324571\n",
       "198    0.719622  0.707832\n",
       "199    0.822657  0.352411\n",
       "\n",
       "[200 rows x 2 columns]"
      ]
     },
     "execution_count": 20,
     "metadata": {},
     "output_type": "execute_result"
    }
   ],
   "source": [
    "newdf.drop([2, 3], axis = 1, inplace = True)\n",
    "newdf"
   ]
  },
  {
   "cell_type": "code",
   "execution_count": 21,
   "id": "7bf55275",
   "metadata": {},
   "outputs": [
    {
     "data": {
      "text/html": [
       "<div>\n",
       "<style scoped>\n",
       "    .dataframe tbody tr th:only-of-type {\n",
       "        vertical-align: middle;\n",
       "    }\n",
       "\n",
       "    .dataframe tbody tr th {\n",
       "        vertical-align: top;\n",
       "    }\n",
       "\n",
       "    .dataframe thead th {\n",
       "        text-align: right;\n",
       "    }\n",
       "</style>\n",
       "<table border=\"1\" class=\"dataframe\">\n",
       "  <thead>\n",
       "    <tr style=\"text-align: right;\">\n",
       "      <th></th>\n",
       "      <th>0</th>\n",
       "      <th>1</th>\n",
       "    </tr>\n",
       "  </thead>\n",
       "  <tbody>\n",
       "    <tr>\n",
       "      <th>0</th>\n",
       "      <td>654.000000</td>\n",
       "      <td>0.377366</td>\n",
       "    </tr>\n",
       "    <tr>\n",
       "      <th>1</th>\n",
       "      <td>0.302459</td>\n",
       "      <td>0.049076</td>\n",
       "    </tr>\n",
       "    <tr>\n",
       "      <th>4</th>\n",
       "      <td>0.047410</td>\n",
       "      <td>0.647865</td>\n",
       "    </tr>\n",
       "    <tr>\n",
       "      <th>5</th>\n",
       "      <td>0.336489</td>\n",
       "      <td>0.930926</td>\n",
       "    </tr>\n",
       "    <tr>\n",
       "      <th>6</th>\n",
       "      <td>0.149721</td>\n",
       "      <td>0.688935</td>\n",
       "    </tr>\n",
       "  </tbody>\n",
       "</table>\n",
       "</div>"
      ],
      "text/plain": [
       "            0         1\n",
       "0  654.000000  0.377366\n",
       "1    0.302459  0.049076\n",
       "4    0.047410  0.647865\n",
       "5    0.336489  0.930926\n",
       "6    0.149721  0.688935"
      ]
     },
     "execution_count": 21,
     "metadata": {},
     "output_type": "execute_result"
    }
   ],
   "source": [
    "newdf.drop([2, 3], axis = 0, inplace = True)\n",
    "newdf.head()"
   ]
  },
  {
   "cell_type": "code",
   "execution_count": 22,
   "id": "1be35385",
   "metadata": {},
   "outputs": [
    {
     "data": {
      "text/html": [
       "<div>\n",
       "<style scoped>\n",
       "    .dataframe tbody tr th:only-of-type {\n",
       "        vertical-align: middle;\n",
       "    }\n",
       "\n",
       "    .dataframe tbody tr th {\n",
       "        vertical-align: top;\n",
       "    }\n",
       "\n",
       "    .dataframe thead th {\n",
       "        text-align: right;\n",
       "    }\n",
       "</style>\n",
       "<table border=\"1\" class=\"dataframe\">\n",
       "  <thead>\n",
       "    <tr style=\"text-align: right;\">\n",
       "      <th></th>\n",
       "      <th>0</th>\n",
       "      <th>1</th>\n",
       "    </tr>\n",
       "  </thead>\n",
       "  <tbody>\n",
       "    <tr>\n",
       "      <th>0</th>\n",
       "      <td>654.000000</td>\n",
       "      <td>0.377366</td>\n",
       "    </tr>\n",
       "    <tr>\n",
       "      <th>1</th>\n",
       "      <td>0.302459</td>\n",
       "      <td>0.049076</td>\n",
       "    </tr>\n",
       "    <tr>\n",
       "      <th>2</th>\n",
       "      <td>0.047410</td>\n",
       "      <td>0.647865</td>\n",
       "    </tr>\n",
       "    <tr>\n",
       "      <th>3</th>\n",
       "      <td>0.336489</td>\n",
       "      <td>0.930926</td>\n",
       "    </tr>\n",
       "    <tr>\n",
       "      <th>4</th>\n",
       "      <td>0.149721</td>\n",
       "      <td>0.688935</td>\n",
       "    </tr>\n",
       "  </tbody>\n",
       "</table>\n",
       "</div>"
      ],
      "text/plain": [
       "            0         1\n",
       "0  654.000000  0.377366\n",
       "1    0.302459  0.049076\n",
       "2    0.047410  0.647865\n",
       "3    0.336489  0.930926\n",
       "4    0.149721  0.688935"
      ]
     },
     "execution_count": 22,
     "metadata": {},
     "output_type": "execute_result"
    }
   ],
   "source": [
    "# for resetting indices:\n",
    "# we have taken 'drop = True' to avoid an uneccessary column named 'index'\n",
    "newdf.reset_index(drop = True, inplace = True)\n",
    "\n",
    "newdf.head()"
   ]
  }
 ],
 "metadata": {
  "kernelspec": {
   "display_name": "learning_ml",
   "language": "python",
   "name": "python3"
  },
  "language_info": {
   "codemirror_mode": {
    "name": "ipython",
    "version": 3
   },
   "file_extension": ".py",
   "mimetype": "text/x-python",
   "name": "python",
   "nbconvert_exporter": "python",
   "pygments_lexer": "ipython3",
   "version": "3.10.6"
  }
 },
 "nbformat": 4,
 "nbformat_minor": 5
}
